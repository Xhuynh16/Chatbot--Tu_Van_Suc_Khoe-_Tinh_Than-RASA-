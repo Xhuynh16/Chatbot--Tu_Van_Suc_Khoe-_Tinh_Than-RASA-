{
 "cells": [
  {
   "cell_type": "markdown",
   "metadata": {},
   "source": [
    "# Cài đặt môi trường"
   ]
  },
  {
   "cell_type": "markdown",
   "metadata": {},
   "source": [
    "### Miniconda \n",
    "\n",
    "https://docs.anaconda.com/free/miniconda/index.html\n"
   ]
  },
  {
   "cell_type": "markdown",
   "metadata": {},
   "source": [
    "### Khởi tạo môi trường\n",
    "\n",
    "    conda create --name myenv python=3.9\n",
    "\n",
    "    conda activate myenv\n",
    "\n",
    "### Cài đặt các gói liên quan\n",
    "\n",
    "    pip install rasa"
   ]
  },
  {
   "cell_type": "markdown",
   "metadata": {},
   "source": [
    "# Tạo project Rasa"
   ]
  },
  {
   "cell_type": "markdown",
   "metadata": {},
   "source": [
    "### Tạo thư mục chứa project\n",
    "\n",
    "    mkdir ChatRasa\n",
    "\n",
    "    cd ChatRasa"
   ]
  },
  {
   "cell_type": "markdown",
   "metadata": {},
   "source": [
    "### Khởi tạo project\n",
    "\n",
    "    rasa init"
   ]
  },
  {
   "cell_type": "markdown",
   "metadata": {},
   "source": [
    "# Chuẩn bị dữ liệu"
   ]
  },
  {
   "cell_type": "markdown",
   "metadata": {},
   "source": [
    "nlu.yml\n",
    "\n",
    "rules.yml\n",
    "\n",
    "stories.yml"
   ]
  },
  {
   "cell_type": "markdown",
   "metadata": {},
   "source": [
    "# Train chatbot"
   ]
  },
  {
   "cell_type": "markdown",
   "metadata": {},
   "source": [
    "Sau khi hoàn thành chuẩn bị data\n",
    "\n",
    "    rasa train"
   ]
  },
  {
   "cell_type": "markdown",
   "metadata": {},
   "source": [
    "# Serving Model"
   ]
  },
  {
   "cell_type": "markdown",
   "metadata": {},
   "source": [
    "Cho model thực hiện trả lời các câu hỏi từ người dùng, để làm được điều này cần chạy model trên một server\n",
    "\n",
    "### Cài đặt ngrok\n",
    "\n",
    "https://ngrok.com/docs\n",
    "\n",
    "\n",
    "### Kết nối với một Channel Connector (Telegram)\n",
    "\n",
    "https://rasa.com/docs/rasa/connectors/telegram\n",
    "\n",
    "\n",
    "### Chạy server với model Rasa\n",
    "\n",
    "    rasa run\n",
    "\n",
    "    ngrok http 5005 \n",
    "\n",
    "Note: Cần thay đường dẫn ngrok cung cấp để bot telegram gửi được request đến server"
   ]
  }
 ],
 "metadata": {
  "language_info": {
   "name": "python"
  }
 },
 "nbformat": 4,
 "nbformat_minor": 2
}
